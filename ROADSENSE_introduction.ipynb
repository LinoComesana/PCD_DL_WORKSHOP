{
 "cells": [
  {
   "cell_type": "markdown",
   "id": "fd5ba618-8584-4a74-acc6-bdb1b7eb8219",
   "metadata": {},
   "source": [
    "# 3. ROADSENSE introduction\n",
    "\n",
    "Given the basics of point cloud simulation from scratch with python, let's move to the last part of the 1st block, which consists in a brief introduction to the **ROADSENSE simulator**.\n",
    "\n",
    "<center><img src=\"images/roadsense_github.png\" alt=\"Drawing\" style=\"width: 800px;\"/></center>\n",
    "\n",
    "**ROADSENSE** is a simulation software that allows the generation of synthetic point clouds datasets within **different transportation systems and forestry scenarios**. It was published alongside a case study in https://doi.org/10.3390/infrastructures9030058, where different experiments were carried with a DL model, PointNet++ (which will be used in the next section of this course) and compared with the results retrieved when departing from synthetic data from other state-of-the-art simulator HELIOS++.\n",
    "\n",
    "As stated before, ROADSENSE allows the generation of synthetic point clouds in both forested regions as well as places partially covered with vegetation where different types of roads coexist.\n",
    "\n",
    "<center><img src=\"images/autopista_sintetica_1.png\" alt=\"Drawing\" style=\"width: 800px;\"/></center>\n",
    "\n",
    "The methodology followed by ROADSENSE during the generation protocols is quite similar to the one presentes in the previous section. For example, in case : **generation of the Digital Terrain Model (DTM)**, **generation of modified tree segments** and, finally, **merge of the semantic information in a single point cloud**.\n",
    "\n",
    "\n"
   ]
  },
  {
   "cell_type": "code",
   "execution_count": null,
   "id": "dfaab070-e77e-4e79-b4e6-bb0abf5c0fef",
   "metadata": {},
   "outputs": [],
   "source": []
  },
  {
   "cell_type": "code",
   "execution_count": null,
   "id": "081a5eb5-c649-4d90-8755-1782a4e0cac0",
   "metadata": {},
   "outputs": [],
   "source": []
  }
 ],
 "metadata": {
  "kernelspec": {
   "display_name": "Python 3 (ipykernel)",
   "language": "python",
   "name": "python3"
  },
  "language_info": {
   "codemirror_mode": {
    "name": "ipython",
    "version": 3
   },
   "file_extension": ".py",
   "mimetype": "text/x-python",
   "name": "python",
   "nbconvert_exporter": "python",
   "pygments_lexer": "ipython3",
   "version": "3.11.7"
  }
 },
 "nbformat": 4,
 "nbformat_minor": 5
}
