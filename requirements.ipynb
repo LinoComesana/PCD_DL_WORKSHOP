{
 "cells": [
  {
   "cell_type": "markdown",
   "id": "0b0729c5",
   "metadata": {},
   "source": [
    "# 1. Requirements\n",
    "\n",
    "As an introduction to this course, we will see the 2 most common ways to work with 3rd party software: **Anaconda virtual environments** and **Docker images**, since we will deal with them in the next 2 sections.\n",
    "\n",
    "---\n",
    "\n",
    "## 1.1. Anaconda virtual environment\n",
    "\n",
    "First of all, we will create a **virtual environment of anaconda** in which all the required libraries will be installed. We will consider 2 options: **creating from a .yml file** or **creating from scratch**.\n",
    "\n",
    "### · Option 1: Creating from a .yml file\n",
    "\n",
    "There is a file called *\"environment_workshop.yml\"* in the parent directory of this workshop that contains all the libraries and their required versions. We will install all of them at once doing the following:"
   ]
  },
  {
   "cell_type": "code",
   "execution_count": 1,
   "id": "7eff7ed2",
   "metadata": {},
   "outputs": [
    {
     "name": "stdout",
     "output_type": "stream",
     "text": [
      "\r\n",
      "CondaValueError: prefix already exists: /home/lino/anaconda3/envs/environment_workshop\r\n",
      "\r\n"
     ]
    }
   ],
   "source": [
    "! conda env create -f environment_workshop.yml"
   ]
  },
  {
   "cell_type": "markdown",
   "id": "b1da9870",
   "metadata": {},
   "source": [
    "Probably, this step will take a while. **In case an error occurs, try the Option 2**.\n",
    "\n",
    "Once the environment is installed, we activate it by typing:"
   ]
  },
  {
   "cell_type": "code",
   "execution_count": null,
   "id": "3eb4c3ee",
   "metadata": {},
   "outputs": [],
   "source": [
    "! conda activate environment_workshop"
   ]
  },
  {
   "cell_type": "markdown",
   "id": "b03b07b9",
   "metadata": {},
   "source": [
    "And, finally, check that every library can be imported succesfully:"
   ]
  },
  {
   "cell_type": "code",
   "execution_count": 1,
   "id": "335f174d",
   "metadata": {},
   "outputs": [
    {
     "name": "stdout",
     "output_type": "stream",
     "text": [
      "Jupyter environment detected. Enabling Open3D WebVisualizer.\n",
      "[Open3D INFO] WebRTC GUI backend enabled.\n",
      "[Open3D INFO] WebRTCWindowSystem: HTTP handshake server disabled.\n"
     ]
    }
   ],
   "source": [
    "try:\n",
    "    import open3d as o3d\n",
    "except:\n",
    "    print('Error importing open3d')\n",
    "try:\n",
    "    import numpy as np\n",
    "except:\n",
    "    print('Error importing numpy')\n",
    "try:\n",
    "    import laspy as lp\n",
    "except:\n",
    "    print('Error importing laspy')"
   ]
  },
  {
   "cell_type": "markdown",
   "id": "60a8b40e",
   "metadata": {},
   "source": [
    "### · Option 2: Creating from scratch\n",
    "\n",
    "We will create the environment and install all the required libraries step by step. In an external shell:\n",
    "\n",
    "```conda create --name environment_workshop```\n",
    "\n",
    "Type _y_ and press Enter. Once the environment is created, we activate it and install the libraries through pip:\n",
    "\n",
    "\n",
    "```conda activate environment_workshop```\n",
    "\n",
    "```pip install open3d```\n",
    "\n",
    "```pip install laspy```\n",
    "\n",
    "In case that pip is not recognized as a command, install it by:\n",
    "\n",
    "```conda install pip```,\n",
    "\n",
    "and then try again to install the libraries. If everything went without errors, it should be possible to import these libraries in a python session:"
   ]
  },
  {
   "cell_type": "code",
   "execution_count": null,
   "id": "266ec8b5",
   "metadata": {},
   "outputs": [],
   "source": [
    "try:\n",
    "    import open3d as o3d\n",
    "except:\n",
    "    print('Error importing open3d')\n",
    "try:\n",
    "    import numpy as np\n",
    "except:\n",
    "    print('Error importing numpy')\n",
    "try:\n",
    "    import laspy as lp\n",
    "except:\n",
    "    print('Error importing laspy')"
   ]
  },
  {
   "cell_type": "markdown",
   "id": "faae304d",
   "metadata": {},
   "source": [
    "---\n",
    "\n",
    "## 1.2. Docker image\n",
    "\n",
    "A Docker image is a **read-only template** that contains a set of instructions for creating a **container** that can run on the Docker and UDocker platforms. It provides a convenient way to package up applications and preconfigured server environments, which you can use for your own private use or share publicly with other Docker users.\n",
    "\n",
    "**IMPORTANT!** We will install UDocker and all its dependencies in the **anaconda environment** that we have just created, so ensure to make ```conda activate environment_workshop``` before!!!\n",
    "\n",
    "In our case, in the third part of this course we will work with an official image of Tensorflow 2 which includes several specific dependencies that we will need in order to work with some codes. Depending on your OS, you should install Docker in a different way (May 2023):\n",
    "\n",
    "**· Linux/Ubuntu users**\n",
    "\n",
    "Open the terminal and move to the directory where you want to install Docker:\n",
    "```cd /your/preferred/directory```\n",
    "\n",
    "Then, clone the official repository:\n",
    "```git clone --depth=1 https://github.com/indigo-dc/udocker.git```\n",
    "\n",
    "Move to the new directory:\n",
    "```cd udocker```\n",
    "\n",
    "Again, move to the subfolder with the same name:\n",
    "```cd udocker```\n",
    "\n",
    "and do the following:\n",
    "\n",
    "```ln -s maincmd.py udocker```\n",
    "\n",
    "```export PATH='pwd'/udocker/udocker:$PATH```\n",
    "\n",
    "```udocker install```\n",
    "\n",
    "In case that an error like _\"/usr/bin/env: python: No such file or directory\"_ happened is most liklely due to your anaconda installation, which brings few different verisons of python but no one is linked to the \"python\" command. In order to solve this, do the following:\n",
    "\n",
    "```sudo apt install python-is-python3```\n",
    "\n",
    "and repeat from the step that caused the error.\n",
    "\n",
    "\n",
    "\n",
    "**· Windows users**\n",
    "\n",
    "Go to the [official site](https://docs.docker.com/desktop/install/windows-install/) and download the Docker Desktop for Windows .exe file. Then, run the installer. If an user field with something related to _Hyper-V Windows Feature_ apears during the installation, ensure to always enable it on the configuration page.\n",
    "\n",
    "---\n",
    "\n",
    "In order to check if UDocker was successfully installed, type ```udocker``` in a terminal and an output with different helpful information about udocker should be displayed.\n",
    "\n",
    "<hr style=\"border:1px solid black\">\n",
    "\n",
    "Now that we have UDocker installed in our machine, we are going yo pull the image that we will use during the last section of this course. In short, pulling an image means the same that downloading it from the cloud. So, in a terminal type the following instruction:\n",
    "\n",
    "```udocker pull tensorflow/tensorflow:1.2.0-gpu```\n",
    "\n",
    "Once the image is fully pulled in our machine, we need to retrieve its ID. For doing that we type:\n",
    "\n",
    "```udocker images```\n",
    "\n",
    "and we should have something similar to this:\n",
    "\n",
    "```\n",
    "REPOSITORY\n",
    "tensorflow/tensorflow:1.2.0-gpu                              .\n",
    "```\n",
    "\n",
    "**In my case**, \"tensorflow/tensorflow:1.2.0-gpu\" is the ID of my image (and also its name), so we keep that information with us and, then, we create an empty container linked to that image:\n",
    "\n",
    "```udocker create --name=pn2_workshop ID_OF_THE_IMAGE```\n",
    "\n",
    "Once the container is prepared in our machine, we should be able to check every container created and some important features of them by doing ```udocker ps```:\n",
    "\n",
    "```\n",
    "CONTAINER ID                         P M NAMES              IMAGE               \n",
    "699308c0-6167-3790-8204-a67456e9b11d . W ['pn2_workshop']   tensorflow/tensorflow:1.2.0-gpu\n",
    "```\n",
    "\n",
    "We are almost done! It is neccessary to give permission to that container to access the GPU of our PC, and this can be done by typing:\n",
    "\n",
    "```udocker setup --nvidia ID_OF_THE_CONTAINER```\n",
    "\n",
    "If we want to run this container in an interactive session (like a virtual machine) we can do this:\n",
    "\n",
    "```udocker run --volume=$(pwd) --volume=/home/lino(in my case) --workdir=$(pwd) ID_OF_THE_CONTAINER /bin/bash```\n",
    "\n",
    "**IMPORTANT!** The ```--volume``` flags tells udocker to kept all the information allocated in the specified directories during the session, if we run that udocker instruction (or any other) without them we will be in a \"virtual empty twin\", i.e., in a virtual machine with the same folder/tree structure but without any files!!!\n",
    "\n",
    "Finally, the last step is to install some libraries in the brand new container that we just have created. We will need them in the 3rd section so, first, we run the container in an interactive session:\n",
    "\n",
    "```udocker run --volume=$(pwd) --volume=/home/lino(in my case) --workdir=$(pwd) ID_OF_THE_CONTAINER /bin/bash```\n",
    "\n",
    "And now, in the new container prompt, we do:\n",
    "\n",
    "```pip install h5py```\n",
    "\n",
    "And that's all! for exiting this interactive session we can type ```exit``` or [Ctrl+D]."
   ]
  }
 ],
 "metadata": {
  "kernelspec": {
   "display_name": "Python 3",
   "language": "python",
   "name": "python3"
  },
  "language_info": {
   "codemirror_mode": {
    "name": "ipython",
    "version": 3
   },
   "file_extension": ".py",
   "mimetype": "text/x-python",
   "name": "python",
   "nbconvert_exporter": "python",
   "pygments_lexer": "ipython3",
   "version": "3.8.10"
  }
 },
 "nbformat": 4,
 "nbformat_minor": 5
}
