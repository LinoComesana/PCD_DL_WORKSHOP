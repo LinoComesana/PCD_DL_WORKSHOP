{
 "cells": [
  {
   "cell_type": "markdown",
   "id": "0b0729c5",
   "metadata": {},
   "source": [
    "# 1. Requirements\n",
    "\n",
    "As an introduction to this course, we will create a **virtual environment of anaconda** in which all the required libraries will be installed. We will consider 2 options: **creating from a .yml file** or **creating from scratch**.\n",
    "\n",
    "### · Option 1: Creating from a .yml file\n",
    "\n",
    "There is a file called *\"environment_workshop.yml\"* in the parent directory of this workshop that contains all the libraries and their required versions. We will install all of them at once doing the following:"
   ]
  },
  {
   "cell_type": "code",
   "execution_count": 1,
   "id": "7eff7ed2",
   "metadata": {},
   "outputs": [
    {
     "name": "stdout",
     "output_type": "stream",
     "text": [
      "\r\n",
      "CondaValueError: prefix already exists: /home/lino/anaconda3/envs/environment_workshop\r\n",
      "\r\n"
     ]
    }
   ],
   "source": [
    "! conda env create -f environment_workshop.yml"
   ]
  },
  {
   "cell_type": "markdown",
   "id": "b1da9870",
   "metadata": {},
   "source": [
    "Probably, this step will take a while. **In case an error occurs, try the Option 2**.\n",
    "\n",
    "Once the environment is installed, we activate it by typing:"
   ]
  },
  {
   "cell_type": "code",
   "execution_count": null,
   "id": "3eb4c3ee",
   "metadata": {},
   "outputs": [],
   "source": [
    "! conda activate environment_workshop"
   ]
  },
  {
   "cell_type": "markdown",
   "id": "b03b07b9",
   "metadata": {},
   "source": [
    "And, finally, check that every library can be imported succesfully:"
   ]
  },
  {
   "cell_type": "code",
   "execution_count": 1,
   "id": "335f174d",
   "metadata": {},
   "outputs": [
    {
     "name": "stdout",
     "output_type": "stream",
     "text": [
      "Jupyter environment detected. Enabling Open3D WebVisualizer.\n",
      "[Open3D INFO] WebRTC GUI backend enabled.\n",
      "[Open3D INFO] WebRTCWindowSystem: HTTP handshake server disabled.\n"
     ]
    }
   ],
   "source": [
    "try:\n",
    "    import open3d as o3d\n",
    "except:\n",
    "    print('Error importing open3d')\n",
    "try:\n",
    "    import numpy as np\n",
    "except:\n",
    "    print('Error importing numpy')\n",
    "try:\n",
    "    import laspy as lp\n",
    "except:\n",
    "    print('Error importing laspy')"
   ]
  },
  {
   "cell_type": "markdown",
   "id": "60a8b40e",
   "metadata": {},
   "source": [
    "### · Option 2: Creating from scratch\n",
    "\n",
    "We will create the environment and install all the required libraries step by step. In an external shell:\n",
    "\n",
    "```conda create --name environment_workshop```\n",
    "\n",
    "Type _y_ and press Enter. Once the environment is created, we install the libraries through pip:\n",
    "\n",
    "\n",
    "\n",
    "```\n",
    "pip install open3d\n",
    "\n",
    "pip install laspy\n",
    "```\n",
    "\n",
    "In case that pip is not recognized as a command, install it by:\n",
    "\n",
    "```conda install pip```,\n",
    "\n",
    "and then try again to install the libraries. If everything went without errors, it should be possible to import these libraries in a python session:"
   ]
  },
  {
   "cell_type": "code",
   "execution_count": null,
   "id": "266ec8b5",
   "metadata": {},
   "outputs": [],
   "source": [
    "try:\n",
    "    import open3d as o3d\n",
    "except:\n",
    "    print('Error importing open3d')\n",
    "try:\n",
    "    import numpy as np\n",
    "except:\n",
    "    print('Error importing numpy')\n",
    "try:\n",
    "    import laspy as lp\n",
    "except:\n",
    "    print('Error importing laspy')"
   ]
  }
 ],
 "metadata": {
  "kernelspec": {
   "display_name": "Python 3",
   "language": "python",
   "name": "python3"
  },
  "language_info": {
   "codemirror_mode": {
    "name": "ipython",
    "version": 3
   },
   "file_extension": ".py",
   "mimetype": "text/x-python",
   "name": "python",
   "nbconvert_exporter": "python",
   "pygments_lexer": "ipython3",
   "version": "3.8.10"
  }
 },
 "nbformat": 4,
 "nbformat_minor": 5
}
