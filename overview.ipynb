{
 "cells": [
  {
   "cell_type": "markdown",
   "id": "7f6c7c6b",
   "metadata": {},
   "source": [
    "# Point Cloud Simulation and Deep Learning Processing with Python\n",
    "## University of Vigo\n",
    "\n",
    "**Lino José Comesaña Cebral**\n",
    "\n",
    "<u>Social media and contact information:</u>\n",
    "\n",
    "- [GITHUB profile](https://github.com/LinoComesana)\n",
    "- [ResearchGate profile](https://www.researchgate.net/profile/Lino-Jose-Cebral)\n",
    "- [ORCID profile](https://orcid.org/0000-0002-0484-4417)\n",
    "- E-mail: [lino.comesana@uvigo.gal](lino.comesana@uvigo.gal)\n",
    "\n",
    "\n",
    "May 2023"
   ]
  },
  {
   "cell_type": "code",
   "execution_count": 3,
   "id": "607d6133",
   "metadata": {},
   "outputs": [
    {
     "name": "stdout",
     "output_type": "stream",
     "text": [
      "Last version:  Thu May 18 11:39:23 2023\n"
     ]
    }
   ],
   "source": [
    "import time\n",
    "print('Last version: ',time.asctime())"
   ]
  },
  {
   "cell_type": "markdown",
   "id": "0c40ec1e",
   "metadata": {},
   "source": [
    "<hr style=\"border:1px solid black\">"
   ]
  },
  {
   "cell_type": "markdown",
   "id": "1573a746",
   "metadata": {},
   "source": [
    "### Index\n",
    "\n",
    "The workshop will be organized as follows:\n",
    "\n",
    "- [Requirements](./requirements.ipynb)\n",
    "- [Simulating point clouds with python](./pcd_simulation.ipynb)\n",
    "- [Point Cloud segmentation with deep learning](./semantic_segmentation_DL.ipynb)\n"
   ]
  },
  {
   "cell_type": "code",
   "execution_count": null,
   "id": "1d8ae2dd",
   "metadata": {},
   "outputs": [],
   "source": []
  }
 ],
 "metadata": {
  "kernelspec": {
   "display_name": "Python 3",
   "language": "python",
   "name": "python3"
  },
  "language_info": {
   "codemirror_mode": {
    "name": "ipython",
    "version": 3
   },
   "file_extension": ".py",
   "mimetype": "text/x-python",
   "name": "python",
   "nbconvert_exporter": "python",
   "pygments_lexer": "ipython3",
   "version": "3.8.10"
  }
 },
 "nbformat": 4,
 "nbformat_minor": 5
}
