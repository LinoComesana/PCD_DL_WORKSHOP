{
 "cells": [
  {
   "cell_type": "markdown",
   "id": "7f6c7c6b",
   "metadata": {},
   "source": [
    "# Point Cloud Simulation and Deep Learning Processing with Python\n",
    "## University of Vigo\n",
    "\n",
    "**Lino José Comesaña Cebral**\n",
    "\n",
    "<u>Social media and contact information:</u>\n",
    "\n",
    "- [GITHUB profile](https://github.com/LinoComesana)\n",
    "- [ResearchGate profile](https://www.researchgate.net/profile/Lino-Jose-Cebral)\n",
    "- [ORCID profile](https://orcid.org/0000-0002-0484-4417)\n",
    "- E-mail: [lino.comesana@uvigo.gal](lino.comesana@uvigo.gal)\n",
    "\n",
    "\n",
    "May 2023"
   ]
  },
  {
   "cell_type": "code",
   "execution_count": 1,
   "id": "607d6133",
   "metadata": {},
   "outputs": [
    {
     "name": "stdout",
     "output_type": "stream",
     "text": [
      "Last version:  Wed May 29 19:00:22 2024\n"
     ]
    }
   ],
   "source": [
    "import time\n",
    "print('Last version: ',time.asctime())"
   ]
  },
  {
   "cell_type": "markdown",
   "id": "0c40ec1e",
   "metadata": {},
   "source": [
    "<hr style=\"border:1px solid black\">"
   ]
  },
  {
   "cell_type": "markdown",
   "id": "1573a746",
   "metadata": {},
   "source": [
    "### Index\n",
    "\n",
    "The workshop will be organized as follows:\n",
    "\n",
    "#### 1st Block: Introduction to point cloud simulation\n",
    "- [1. Requirements](./requirements.ipynb)\n",
    "- [2. Simulating point clouds with python](./pcd_simulation.ipynb)\n",
    "- [3. ROADSENSE introduction](./ROADSENSE_introduction.ipynb)\n",
    "\n",
    "#### 2nd Block: Deep Learning and CESGA computing\n",
    "- [4. Point Cloud segmentation with deep learning](./semantic_segmentation_DL.ipynb)\n",
    "- [5. Computing at CESGA](./CESGA.ipynb)\n"
   ]
  },
  {
   "cell_type": "code",
   "execution_count": null,
   "id": "01def2ca-3e36-4951-9daf-728fa8cc85c2",
   "metadata": {},
   "outputs": [],
   "source": []
  }
 ],
 "metadata": {
  "kernelspec": {
   "display_name": "Python 3 (ipykernel)",
   "language": "python",
   "name": "python3"
  },
  "language_info": {
   "codemirror_mode": {
    "name": "ipython",
    "version": 3
   },
   "file_extension": ".py",
   "mimetype": "text/x-python",
   "name": "python",
   "nbconvert_exporter": "python",
   "pygments_lexer": "ipython3",
   "version": "3.11.7"
  }
 },
 "nbformat": 4,
 "nbformat_minor": 5
}
