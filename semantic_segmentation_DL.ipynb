{
 "cells": [
  {
   "cell_type": "markdown",
   "id": "9d16f9cb",
   "metadata": {},
   "source": [
    "# 3. Point cloud segmentation with Deep Learning\n",
    "\n",
    "As we mentioned in the previous section, we are going to classiffy all the points in forest scenes "
   ]
  },
  {
   "cell_type": "code",
   "execution_count": null,
   "id": "953f17f0",
   "metadata": {},
   "outputs": [],
   "source": []
  }
 ],
 "metadata": {
  "kernelspec": {
   "display_name": "Python 3",
   "language": "python",
   "name": "python3"
  },
  "language_info": {
   "codemirror_mode": {
    "name": "ipython",
    "version": 3
   },
   "file_extension": ".py",
   "mimetype": "text/x-python",
   "name": "python",
   "nbconvert_exporter": "python",
   "pygments_lexer": "ipython3",
   "version": "3.8.10"
  }
 },
 "nbformat": 4,
 "nbformat_minor": 5
}
