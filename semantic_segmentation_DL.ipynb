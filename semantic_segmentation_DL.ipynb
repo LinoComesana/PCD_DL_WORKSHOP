{
 "cells": [
  {
   "cell_type": "markdown",
   "id": "95f9d256",
   "metadata": {},
   "source": [
    "# 3. Point cloud segmentation with Deep Learning\n",
    "\n",
    "As we mentioned in the previous section, we are going to classiffy all the points in forest scenes into 2 classes: **trees** and **DTM**. In order to do this, we are going to use a top DL model called [PointNet++](https://github.com/charlesq34/pointnet2)"
   ]
  },
  {
   "cell_type": "code",
   "execution_count": null,
   "id": "6153119d",
   "metadata": {},
   "outputs": [],
   "source": []
  }
 ],
 "metadata": {
  "kernelspec": {
   "display_name": "Python 3",
   "language": "python",
   "name": "python3"
  },
  "language_info": {
   "codemirror_mode": {
    "name": "ipython",
    "version": 3
   },
   "file_extension": ".py",
   "mimetype": "text/x-python",
   "name": "python",
   "nbconvert_exporter": "python",
   "pygments_lexer": "ipython3",
   "version": "3.8.10"
  }
 },
 "nbformat": 4,
 "nbformat_minor": 5
}
